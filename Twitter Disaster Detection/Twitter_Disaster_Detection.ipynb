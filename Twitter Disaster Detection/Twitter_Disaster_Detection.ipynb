{
  "nbformat": 4,
  "nbformat_minor": 0,
  "metadata": {
    "colab": {
      "name": "Tweeter Disaster Detection.ipynb",
      "provenance": [],
      "collapsed_sections": []
    },
    "kernelspec": {
      "name": "python3",
      "display_name": "Python 3"
    },
    "language_info": {
      "name": "python"
    }
  },
  "cells": [
    {
      "cell_type": "markdown",
      "source": [
        "#Tweet Disaster Detection"
      ],
      "metadata": {
        "id": "fOr8xUh6JeJt"
      }
    },
    {
      "cell_type": "code",
      "execution_count": 188,
      "metadata": {
        "colab": {
          "base_uri": "https://localhost:8080/"
        },
        "id": "9XUBiDUXJdkr",
        "outputId": "e7cce785-b71a-4813-8f5e-37cbaba3b3e2"
      },
      "outputs": [
        {
          "output_type": "stream",
          "name": "stdout",
          "text": [
            "[nltk_data] Downloading package stopwords to /root/nltk_data...\n",
            "[nltk_data]   Package stopwords is already up-to-date!\n",
            "[nltk_data] Downloading package wordnet to /root/nltk_data...\n",
            "[nltk_data]   Package wordnet is already up-to-date!\n"
          ]
        }
      ],
      "source": [
        "import pandas as pd # data frame\n",
        "import numpy as np # array processing\n",
        "from nltk.tokenize import word_tokenize # Tokenizing words\n",
        "from nltk.corpus import stopwords  # stopwords\n",
        "from nltk.stem import WordNetLemmatizer  #Lemmetization\n",
        "lem = WordNetLemmatizer() #Lemmetization object\n",
        "from sklearn.model_selection import train_test_split # Test train split\n",
        "from sklearn.linear_model import LogisticRegression # classification model feature Base methord\n",
        "from sklearn.svm import LinearSVC #Classification model feature Base Methord\n",
        "from sklearn.ensemble import RandomForestClassifier\n",
        "from sklearn.metrics import classification_report,confusion_matrix # Verification metrics\n",
        "from wordcloud import WordCloud # wordcloud\n",
        "from sklearn.feature_extraction.text import TfidfVectorizer #word to vector\n",
        "import matplotlib.pyplot as plt #plot\n",
        "import seaborn as sns #plot \n",
        "import re\n",
        "import nltk\n",
        "nltk.download('stopwords')\n",
        "nltk.download('wordnet')\n",
        "stopWords = set(stopwords.words('english')) #Downloading Stopwords in stopWords"
      ]
    },
    {
      "cell_type": "code",
      "source": [
        "df=pd.read_csv('https://raw.githubusercontent.com/laxmimerit/twitter-disaster-prediction-dataset/master/train.csv')\n",
        "df.head()\n",
        "\n",
        "\n"
      ],
      "metadata": {
        "colab": {
          "base_uri": "https://localhost:8080/",
          "height": 206
        },
        "id": "X-JQ0eMIPzB0",
        "outputId": "e60e5353-eed1-4ff9-e1b0-2bee01d5ddf2"
      },
      "execution_count": 189,
      "outputs": [
        {
          "output_type": "execute_result",
          "data": {
            "text/plain": [
              "   id keyword location                                               text  \\\n",
              "0   1     NaN      NaN  Our Deeds are the Reason of this #earthquake M...   \n",
              "1   4     NaN      NaN             Forest fire near La Ronge Sask. Canada   \n",
              "2   5     NaN      NaN  All residents asked to 'shelter in place' are ...   \n",
              "3   6     NaN      NaN  13,000 people receive #wildfires evacuation or...   \n",
              "4   7     NaN      NaN  Just got sent this photo from Ruby #Alaska as ...   \n",
              "\n",
              "   target  \n",
              "0       1  \n",
              "1       1  \n",
              "2       1  \n",
              "3       1  \n",
              "4       1  "
            ],
            "text/html": [
              "\n",
              "  <div id=\"df-ff9b4602-a666-4f1a-9618-004641b6b114\">\n",
              "    <div class=\"colab-df-container\">\n",
              "      <div>\n",
              "<style scoped>\n",
              "    .dataframe tbody tr th:only-of-type {\n",
              "        vertical-align: middle;\n",
              "    }\n",
              "\n",
              "    .dataframe tbody tr th {\n",
              "        vertical-align: top;\n",
              "    }\n",
              "\n",
              "    .dataframe thead th {\n",
              "        text-align: right;\n",
              "    }\n",
              "</style>\n",
              "<table border=\"1\" class=\"dataframe\">\n",
              "  <thead>\n",
              "    <tr style=\"text-align: right;\">\n",
              "      <th></th>\n",
              "      <th>id</th>\n",
              "      <th>keyword</th>\n",
              "      <th>location</th>\n",
              "      <th>text</th>\n",
              "      <th>target</th>\n",
              "    </tr>\n",
              "  </thead>\n",
              "  <tbody>\n",
              "    <tr>\n",
              "      <th>0</th>\n",
              "      <td>1</td>\n",
              "      <td>NaN</td>\n",
              "      <td>NaN</td>\n",
              "      <td>Our Deeds are the Reason of this #earthquake M...</td>\n",
              "      <td>1</td>\n",
              "    </tr>\n",
              "    <tr>\n",
              "      <th>1</th>\n",
              "      <td>4</td>\n",
              "      <td>NaN</td>\n",
              "      <td>NaN</td>\n",
              "      <td>Forest fire near La Ronge Sask. Canada</td>\n",
              "      <td>1</td>\n",
              "    </tr>\n",
              "    <tr>\n",
              "      <th>2</th>\n",
              "      <td>5</td>\n",
              "      <td>NaN</td>\n",
              "      <td>NaN</td>\n",
              "      <td>All residents asked to 'shelter in place' are ...</td>\n",
              "      <td>1</td>\n",
              "    </tr>\n",
              "    <tr>\n",
              "      <th>3</th>\n",
              "      <td>6</td>\n",
              "      <td>NaN</td>\n",
              "      <td>NaN</td>\n",
              "      <td>13,000 people receive #wildfires evacuation or...</td>\n",
              "      <td>1</td>\n",
              "    </tr>\n",
              "    <tr>\n",
              "      <th>4</th>\n",
              "      <td>7</td>\n",
              "      <td>NaN</td>\n",
              "      <td>NaN</td>\n",
              "      <td>Just got sent this photo from Ruby #Alaska as ...</td>\n",
              "      <td>1</td>\n",
              "    </tr>\n",
              "  </tbody>\n",
              "</table>\n",
              "</div>\n",
              "      <button class=\"colab-df-convert\" onclick=\"convertToInteractive('df-ff9b4602-a666-4f1a-9618-004641b6b114')\"\n",
              "              title=\"Convert this dataframe to an interactive table.\"\n",
              "              style=\"display:none;\">\n",
              "        \n",
              "  <svg xmlns=\"http://www.w3.org/2000/svg\" height=\"24px\"viewBox=\"0 0 24 24\"\n",
              "       width=\"24px\">\n",
              "    <path d=\"M0 0h24v24H0V0z\" fill=\"none\"/>\n",
              "    <path d=\"M18.56 5.44l.94 2.06.94-2.06 2.06-.94-2.06-.94-.94-2.06-.94 2.06-2.06.94zm-11 1L8.5 8.5l.94-2.06 2.06-.94-2.06-.94L8.5 2.5l-.94 2.06-2.06.94zm10 10l.94 2.06.94-2.06 2.06-.94-2.06-.94-.94-2.06-.94 2.06-2.06.94z\"/><path d=\"M17.41 7.96l-1.37-1.37c-.4-.4-.92-.59-1.43-.59-.52 0-1.04.2-1.43.59L10.3 9.45l-7.72 7.72c-.78.78-.78 2.05 0 2.83L4 21.41c.39.39.9.59 1.41.59.51 0 1.02-.2 1.41-.59l7.78-7.78 2.81-2.81c.8-.78.8-2.07 0-2.86zM5.41 20L4 18.59l7.72-7.72 1.47 1.35L5.41 20z\"/>\n",
              "  </svg>\n",
              "      </button>\n",
              "      \n",
              "  <style>\n",
              "    .colab-df-container {\n",
              "      display:flex;\n",
              "      flex-wrap:wrap;\n",
              "      gap: 12px;\n",
              "    }\n",
              "\n",
              "    .colab-df-convert {\n",
              "      background-color: #E8F0FE;\n",
              "      border: none;\n",
              "      border-radius: 50%;\n",
              "      cursor: pointer;\n",
              "      display: none;\n",
              "      fill: #1967D2;\n",
              "      height: 32px;\n",
              "      padding: 0 0 0 0;\n",
              "      width: 32px;\n",
              "    }\n",
              "\n",
              "    .colab-df-convert:hover {\n",
              "      background-color: #E2EBFA;\n",
              "      box-shadow: 0px 1px 2px rgba(60, 64, 67, 0.3), 0px 1px 3px 1px rgba(60, 64, 67, 0.15);\n",
              "      fill: #174EA6;\n",
              "    }\n",
              "\n",
              "    [theme=dark] .colab-df-convert {\n",
              "      background-color: #3B4455;\n",
              "      fill: #D2E3FC;\n",
              "    }\n",
              "\n",
              "    [theme=dark] .colab-df-convert:hover {\n",
              "      background-color: #434B5C;\n",
              "      box-shadow: 0px 1px 3px 1px rgba(0, 0, 0, 0.15);\n",
              "      filter: drop-shadow(0px 1px 2px rgba(0, 0, 0, 0.3));\n",
              "      fill: #FFFFFF;\n",
              "    }\n",
              "  </style>\n",
              "\n",
              "      <script>\n",
              "        const buttonEl =\n",
              "          document.querySelector('#df-ff9b4602-a666-4f1a-9618-004641b6b114 button.colab-df-convert');\n",
              "        buttonEl.style.display =\n",
              "          google.colab.kernel.accessAllowed ? 'block' : 'none';\n",
              "\n",
              "        async function convertToInteractive(key) {\n",
              "          const element = document.querySelector('#df-ff9b4602-a666-4f1a-9618-004641b6b114');\n",
              "          const dataTable =\n",
              "            await google.colab.kernel.invokeFunction('convertToInteractive',\n",
              "                                                     [key], {});\n",
              "          if (!dataTable) return;\n",
              "\n",
              "          const docLinkHtml = 'Like what you see? Visit the ' +\n",
              "            '<a target=\"_blank\" href=https://colab.research.google.com/notebooks/data_table.ipynb>data table notebook</a>'\n",
              "            + ' to learn more about interactive tables.';\n",
              "          element.innerHTML = '';\n",
              "          dataTable['output_type'] = 'display_data';\n",
              "          await google.colab.output.renderOutput(dataTable, element);\n",
              "          const docLink = document.createElement('div');\n",
              "          docLink.innerHTML = docLinkHtml;\n",
              "          element.appendChild(docLink);\n",
              "        }\n",
              "      </script>\n",
              "    </div>\n",
              "  </div>\n",
              "  "
            ]
          },
          "metadata": {},
          "execution_count": 189
        }
      ]
    },
    {
      "cell_type": "code",
      "source": [
        "df.shape"
      ],
      "metadata": {
        "colab": {
          "base_uri": "https://localhost:8080/"
        },
        "id": "fbkYujwyTA46",
        "outputId": "882f776e-e8e3-48b9-e8c1-558076d69ace"
      },
      "execution_count": 190,
      "outputs": [
        {
          "output_type": "execute_result",
          "data": {
            "text/plain": [
              "(7613, 5)"
            ]
          },
          "metadata": {},
          "execution_count": 190
        }
      ]
    },
    {
      "cell_type": "code",
      "source": [
        "df.info()"
      ],
      "metadata": {
        "colab": {
          "base_uri": "https://localhost:8080/"
        },
        "id": "G36HD4iHTF9E",
        "outputId": "acba0142-5a66-4d95-aac8-fb2cf91a9e0f"
      },
      "execution_count": 191,
      "outputs": [
        {
          "output_type": "stream",
          "name": "stdout",
          "text": [
            "<class 'pandas.core.frame.DataFrame'>\n",
            "RangeIndex: 7613 entries, 0 to 7612\n",
            "Data columns (total 5 columns):\n",
            " #   Column    Non-Null Count  Dtype \n",
            "---  ------    --------------  ----- \n",
            " 0   id        7613 non-null   int64 \n",
            " 1   keyword   7552 non-null   object\n",
            " 2   location  5080 non-null   object\n",
            " 3   text      7613 non-null   object\n",
            " 4   target    7613 non-null   int64 \n",
            "dtypes: int64(2), object(3)\n",
            "memory usage: 297.5+ KB\n"
          ]
        }
      ]
    },
    {
      "cell_type": "markdown",
      "source": [
        "#Text Preprocessing"
      ],
      "metadata": {
        "id": "GFbG7fQL2jf5"
      }
    },
    {
      "cell_type": "code",
      "source": [
        "contractions = {\n",
        "\"ain't\": \"am not\",\n",
        "\"aren't\": \"are not\",\n",
        "\"can't\": \"cannot\",\n",
        "\"can't've\": \"cannot have\",\n",
        "\"'cause\": \"because\",\n",
        "\"could've\": \"could have\",\n",
        "\"couldn't\": \"could not\",\n",
        "\"couldn't've\": \"could not have\",\n",
        "\"didn't\": \"did not\",\n",
        "\"doesn't\": \"does not\",\n",
        "\"don't\": \"do not\",\n",
        "\"hadn't\": \"had not\",\n",
        "\"hadn't've\": \"had not have\",\n",
        "\"hasn't\": \"has not\",\n",
        "\"haven't\": \"have not\",\n",
        "\"he'd\": \"he would\",\n",
        "\"he'd've\": \"he would have\",\n",
        "\"he'll\": \"he will\",\n",
        "\"he'll've\": \"he will have\",\n",
        "\"he's\": \"he is\",\n",
        "\"how'd\": \"how did\",\n",
        "\"how'd'y\": \"how do you\",\n",
        "\"how'll\": \"how will\",\n",
        "\"how's\": \"how does\",\n",
        "\"i'd\": \"i would\",\n",
        "\"i'd've\": \"i would have\",\n",
        "\"i'll\": \"i will\",\n",
        "\"i'll've\": \"i will have\",\n",
        "\"i'm\": \"i am\",\n",
        "\"i've\": \"i have\",\n",
        "\"isn't\": \"is not\",\n",
        "\"it'd\": \"it would\",\n",
        "\"it'd've\": \"it would have\",\n",
        "\"it'll\": \"it will\",\n",
        "\"it'll've\": \"it will have\",\n",
        "\"it's\": \"it is\",\n",
        "\"let's\": \"let us\",\n",
        "\"ma'am\": \"madam\",\n",
        "\"mayn't\": \"may not\",\n",
        "\"might've\": \"might have\",\n",
        "\"mightn't\": \"might not\",\n",
        "\"mightn't've\": \"might not have\",\n",
        "\"must've\": \"must have\",\n",
        "\"mustn't\": \"must not\",\n",
        "\"mustn't've\": \"must not have\",\n",
        "\"needn't\": \"need not\",\n",
        "\"needn't've\": \"need not have\",\n",
        "\"o'clock\": \"of the clock\",\n",
        "\"oughtn't\": \"ought not\",\n",
        "\"oughtn't've\": \"ought not have\",\n",
        "\"shan't\": \"shall not\",\n",
        "\"sha'n't\": \"shall not\",\n",
        "\"shan't've\": \"shall not have\",\n",
        "\"she'd\": \"she would\",\n",
        "\"she'd've\": \"she would have\",\n",
        "\"she'll\": \"she will\",\n",
        "\"she'll've\": \"she will have\",\n",
        "\"she's\": \"she is\",\n",
        "\"should've\": \"should have\",\n",
        "\"shouldn't\": \"should not\",\n",
        "\"shouldn't've\": \"should not have\",\n",
        "\"so've\": \"so have\",\n",
        "\"so's\": \"so is\",\n",
        "\"that'd\": \"that would\",\n",
        "\"that'd've\": \"that would have\",\n",
        "\"that's\": \"that is\",\n",
        "\"there'd\": \"there would\",\n",
        "\"there'd've\": \"there would have\",\n",
        "\"there's\": \"there is\",\n",
        "\"they'd\": \"they would\",\n",
        "\"they'd've\": \"they would have\",\n",
        "\"they'll\": \"they will\",\n",
        "\"they'll've\": \"they will have\",\n",
        "\"they're\": \"they are\",\n",
        "\"they've\": \"they have\",\n",
        "\"to've\": \"to have\",\n",
        "\"wasn't\": \"was not\",\n",
        "\" u \": \" you \",\n",
        "\" ur \": \" your \",\n",
        "\" n \": \" and \",\n",
        "\"won't\": \"would not\",\n",
        "\"wouldn't\": \"would not\",\n",
        "'dis': 'this',\n",
        "'bak': 'back',\n",
        "'brng': 'bring'}"
      ],
      "metadata": {
        "id": "zhoIqAJLVDSo"
      },
      "execution_count": 192,
      "outputs": []
    },
    {
      "cell_type": "code",
      "source": [
        "def cont_to_exp(x):\n",
        "  if x in contractions.keys():\n",
        "    value=contractions[x]\n",
        "  else:\n",
        "    value=x\n",
        "  return value"
      ],
      "metadata": {
        "id": "s0gJyrF6VKDW"
      },
      "execution_count": 193,
      "outputs": []
    },
    {
      "cell_type": "code",
      "source": [
        "def preprocess(x):\n",
        "\n",
        "  x = x.lower()\n",
        "  x = ' '.join(list((cont_to_exp(t) for t in x.split())))\n",
        "  x = re.sub('[^a-zA-Z]', ' ',x)\n",
        "  x = re.sub('(http|https|ftp|ssh)://([\\w_-]+(?:(?:\\.[\\w_-]+)+))([\\w.,@?^=%&:/~+#-]*[\\w@?^=%&/~+#-])?','', x)\n",
        "  x = re.sub('([a-z0-9+._-]+@[a-z0-9+._-]+\\.[a-z0-9+_-]+)','',x)\n",
        "  x = re.sub('[\\W+]', ' ', x)\n",
        "  x = ' '.join(list((lem.lemmatize(t) for t in x.split() if t not in stopWords)))\n",
        "  x = ' '.join(list((t for t in x.split() if len(t)>1)))\n",
        "  return x"
      ],
      "metadata": {
        "id": "yEPpwAHaTKCq"
      },
      "execution_count": 194,
      "outputs": []
    },
    {
      "cell_type": "code",
      "source": [
        "df['pro_text']=df['text'].apply(lambda x :  preprocess(x))"
      ],
      "metadata": {
        "id": "tkg8DAqUVZxj"
      },
      "execution_count": 195,
      "outputs": []
    },
    {
      "cell_type": "code",
      "source": [
        "X1=df['pro_text']\n",
        "y1=df['target']"
      ],
      "metadata": {
        "id": "te65uMtVg8Dc"
      },
      "execution_count": 196,
      "outputs": []
    },
    {
      "cell_type": "markdown",
      "source": [
        "#TFIDF Vectoriser"
      ],
      "metadata": {
        "id": "ET06yO_AvfT3"
      }
    },
    {
      "cell_type": "code",
      "source": [
        "tf=TfidfVectorizer(max_features=3000)\n",
        "text_tf= tf.fit_transform(X1)"
      ],
      "metadata": {
        "id": "W_5JJCzH0TgO"
      },
      "execution_count": 197,
      "outputs": []
    },
    {
      "cell_type": "code",
      "source": [
        "X, X_test, y, y_test = train_test_split(text_tf, y1, test_size=0.2, random_state=0)"
      ],
      "metadata": {
        "id": "UjaeP5j2CXI6"
      },
      "execution_count": 198,
      "outputs": []
    },
    {
      "cell_type": "markdown",
      "source": [
        "#Support Vector Classifier"
      ],
      "metadata": {
        "id": "agAbvQ5RvjzV"
      }
    },
    {
      "cell_type": "code",
      "source": [
        "svc=LinearSVC()\n",
        "svc.fit(X,y)\n",
        "y_pred_svc = svc.predict(X_test)"
      ],
      "metadata": {
        "id": "HwqqKa_QxNpX"
      },
      "execution_count": 199,
      "outputs": []
    },
    {
      "cell_type": "code",
      "source": [
        "print(classification_report(y_test,y_pred_svc))"
      ],
      "metadata": {
        "colab": {
          "base_uri": "https://localhost:8080/"
        },
        "id": "mS-VFINtHGCI",
        "outputId": "36cd40b2-615d-4e29-e8fa-7f4a02bce5d3"
      },
      "execution_count": 200,
      "outputs": [
        {
          "output_type": "stream",
          "name": "stdout",
          "text": [
            "              precision    recall  f1-score   support\n",
            "\n",
            "           0       0.81      0.86      0.83       886\n",
            "           1       0.78      0.72      0.75       637\n",
            "\n",
            "    accuracy                           0.80      1523\n",
            "   macro avg       0.79      0.79      0.79      1523\n",
            "weighted avg       0.80      0.80      0.80      1523\n",
            "\n"
          ]
        }
      ]
    },
    {
      "cell_type": "markdown",
      "source": [
        "#Logistic Regression"
      ],
      "metadata": {
        "id": "EDOL6qo7vrJF"
      }
    },
    {
      "cell_type": "code",
      "source": [
        "lr=LogisticRegression()\n",
        "lr.fit(X,y)\n",
        "y_pred_lr=lr.predict(X_test)"
      ],
      "metadata": {
        "id": "dWqDKgbHZ-JR"
      },
      "execution_count": 201,
      "outputs": []
    },
    {
      "cell_type": "code",
      "source": [
        "print(classification_report(y_test,y_pred_lr))"
      ],
      "metadata": {
        "colab": {
          "base_uri": "https://localhost:8080/"
        },
        "id": "UF-quC8Zajxb",
        "outputId": "fd7e1b57-93cf-4175-a5f5-90aa036fea70"
      },
      "execution_count": 202,
      "outputs": [
        {
          "output_type": "stream",
          "name": "stdout",
          "text": [
            "              precision    recall  f1-score   support\n",
            "\n",
            "           0       0.79      0.90      0.84       886\n",
            "           1       0.82      0.67      0.74       637\n",
            "\n",
            "    accuracy                           0.80      1523\n",
            "   macro avg       0.81      0.78      0.79      1523\n",
            "weighted avg       0.80      0.80      0.80      1523\n",
            "\n"
          ]
        }
      ]
    },
    {
      "cell_type": "markdown",
      "source": [
        "#Random Forest Classifier"
      ],
      "metadata": {
        "id": "pMTV7bpgvvMN"
      }
    },
    {
      "cell_type": "code",
      "source": [
        "rfc = RandomForestClassifier(criterion='entropy', n_estimators=200).fit(X, y)\n",
        "y_pred_rfc=rfc.predict(X_test)"
      ],
      "metadata": {
        "id": "yQ-g8qODa4aj"
      },
      "execution_count": 203,
      "outputs": []
    },
    {
      "cell_type": "code",
      "source": [
        "print(classification_report(y_test,y_pred_rfc))"
      ],
      "metadata": {
        "colab": {
          "base_uri": "https://localhost:8080/"
        },
        "id": "uthbx-IubLb3",
        "outputId": "cd0564cb-d560-462a-f5d6-0e6aa4eb9101"
      },
      "execution_count": 204,
      "outputs": [
        {
          "output_type": "stream",
          "name": "stdout",
          "text": [
            "              precision    recall  f1-score   support\n",
            "\n",
            "           0       0.77      0.91      0.84       886\n",
            "           1       0.83      0.63      0.72       637\n",
            "\n",
            "    accuracy                           0.79      1523\n",
            "   macro avg       0.80      0.77      0.78      1523\n",
            "weighted avg       0.80      0.79      0.79      1523\n",
            "\n"
          ]
        }
      ]
    },
    {
      "cell_type": "markdown",
      "source": [
        "# Word2Vec"
      ],
      "metadata": {
        "id": "z_smtJpVvU7S"
      }
    },
    {
      "cell_type": "code",
      "source": [
        "import spacy"
      ],
      "metadata": {
        "id": "WIEJ1uAWdin7"
      },
      "execution_count": 205,
      "outputs": []
    },
    {
      "cell_type": "code",
      "source": [
        "# !python -m spacy download en_core_web_lg"
      ],
      "metadata": {
        "id": "OlTzyuTobvIK"
      },
      "execution_count": 206,
      "outputs": []
    },
    {
      "cell_type": "code",
      "source": [
        "# spacy.cli.download(\"en_core_web_lg\")\n",
        "nlp=spacy.load('en_core_web_lg')"
      ],
      "metadata": {
        "id": "363XoZYHHeDs"
      },
      "execution_count": 207,
      "outputs": []
    },
    {
      "cell_type": "code",
      "source": [
        "def get_vec(x):\n",
        "  doc = nlp(x)\n",
        "  vec = doc.vector\n",
        "  return vec"
      ],
      "metadata": {
        "id": "k3jyNPvfHoqd"
      },
      "execution_count": 208,
      "outputs": []
    },
    {
      "cell_type": "code",
      "source": [
        "df['vec']=df['text'].apply(lambda x : get_vec(str(x)))"
      ],
      "metadata": {
        "id": "6kBw9HyEJnW7"
      },
      "execution_count": 209,
      "outputs": []
    },
    {
      "cell_type": "code",
      "source": [
        "df['vec']"
      ],
      "metadata": {
        "colab": {
          "base_uri": "https://localhost:8080/"
        },
        "id": "Fn3T6yewv7-z",
        "outputId": "179545d4-7b3d-423c-a7b2-ae6c8a908d6a"
      },
      "execution_count": 210,
      "outputs": [
        {
          "output_type": "execute_result",
          "data": {
            "text/plain": [
              "0       [-0.27897874, 0.103925645, -0.09989621, -0.033...\n",
              "1       [-0.020768244, 0.053068247, -0.15192825, -0.27...\n",
              "2       [-0.015307656, 0.06607368, -0.09196319, -0.087...\n",
              "3       [-0.16429922, 0.2463819, 0.07442567, -0.197739...\n",
              "4       [-0.10624417, 0.06461317, 0.05314888, 0.088013...\n",
              "                              ...                        \n",
              "7608    [0.12572163, -0.17250119, -0.21099047, 0.06948...\n",
              "7609    [-0.028085582, 0.12006733, -0.0071035903, -0.1...\n",
              "7610    [0.09417391, 0.07030873, 0.006694543, -0.23429...\n",
              "7611    [-0.019305991, 0.18637651, -0.21350445, 0.0527...\n",
              "7612    [-0.08053643, 0.21419215, -0.022203717, -0.074...\n",
              "Name: vec, Length: 7613, dtype: object"
            ]
          },
          "metadata": {},
          "execution_count": 210
        }
      ]
    },
    {
      "cell_type": "markdown",
      "source": [
        "To increase the process speed "
      ],
      "metadata": {
        "id": "jVfF5F8Y3bO3"
      }
    },
    {
      "cell_type": "code",
      "source": [
        "X=df['vec'].to_numpy()\n",
        "X.shape"
      ],
      "metadata": {
        "colab": {
          "base_uri": "https://localhost:8080/"
        },
        "id": "XjxWQYkCJq5h",
        "outputId": "e4caef4a-a08a-4b2d-aa14-b32a0643e719"
      },
      "execution_count": 211,
      "outputs": [
        {
          "output_type": "execute_result",
          "data": {
            "text/plain": [
              "(7613,)"
            ]
          },
          "metadata": {},
          "execution_count": 211
        }
      ]
    },
    {
      "cell_type": "markdown",
      "source": [
        "reshape to one column and multiple rows"
      ],
      "metadata": {
        "id": "qRdzEnOj3qMM"
      }
    },
    {
      "cell_type": "code",
      "source": [
        "X=X.reshape(-1,1)\n",
        "X.shape"
      ],
      "metadata": {
        "colab": {
          "base_uri": "https://localhost:8080/"
        },
        "id": "MX3i0Jf1wQkj",
        "outputId": "ba5ab9d4-a33c-42f3-f30f-d143615194a5"
      },
      "execution_count": 212,
      "outputs": [
        {
          "output_type": "execute_result",
          "data": {
            "text/plain": [
              "(7613, 1)"
            ]
          },
          "metadata": {},
          "execution_count": 212
        }
      ]
    },
    {
      "cell_type": "code",
      "source": [
        "X=np.concatenate(np.concatenate(X,axis=0),axis=0).reshape(-1,300)\n",
        "X"
      ],
      "metadata": {
        "colab": {
          "base_uri": "https://localhost:8080/"
        },
        "id": "amsnhhuBJ5bD",
        "outputId": "4c5ecbdc-edac-4756-c99f-ecabaaf34a7a"
      },
      "execution_count": 213,
      "outputs": [
        {
          "output_type": "execute_result",
          "data": {
            "text/plain": [
              "array([[-0.27897874,  0.10392565, -0.09989621, ...,  0.04564636,\n",
              "        -0.06325858, -0.05639894],\n",
              "       [-0.02076824,  0.05306825, -0.15192825, ..., -0.05474687,\n",
              "        -0.2549715 ,  0.11622399],\n",
              "       [-0.01530766,  0.06607368, -0.09196319, ..., -0.0348906 ,\n",
              "         0.07479551,  0.0337687 ],\n",
              "       ...,\n",
              "       [ 0.09417391,  0.07030873,  0.00669454, ...,  0.05192918,\n",
              "        -0.00719345,  0.03631673],\n",
              "       [-0.01930599,  0.18637651, -0.21350445, ..., -0.07282014,\n",
              "         0.03912553,  0.07439488],\n",
              "       [-0.08053643,  0.21419215, -0.02220372, ..., -0.24513498,\n",
              "        -0.03821203,  0.16831529]], dtype=float32)"
            ]
          },
          "metadata": {},
          "execution_count": 213
        }
      ]
    },
    {
      "cell_type": "code",
      "source": [
        "y=df['target']"
      ],
      "metadata": {
        "id": "RoUjAAnCKlhy"
      },
      "execution_count": 214,
      "outputs": []
    },
    {
      "cell_type": "code",
      "source": [
        "X_train,X_test,y_train,y_test=train_test_split(X,y,test_size=0.2,random_state=0,stratify=y)\n",
        "X_train.shape,X_test.shape"
      ],
      "metadata": {
        "colab": {
          "base_uri": "https://localhost:8080/"
        },
        "id": "KOtmJNp_J7ox",
        "outputId": "420c02cb-000e-487d-97eb-60d6b3d5a29c"
      },
      "execution_count": 215,
      "outputs": [
        {
          "output_type": "execute_result",
          "data": {
            "text/plain": [
              "((6090, 300), (1523, 300))"
            ]
          },
          "metadata": {},
          "execution_count": 215
        }
      ]
    },
    {
      "cell_type": "markdown",
      "source": [
        "#Support Vector Classification"
      ],
      "metadata": {
        "id": "jfEKVdml8kxw"
      }
    },
    {
      "cell_type": "code",
      "source": [
        "wsvc=LinearSVC()"
      ],
      "metadata": {
        "id": "R7LHDR6HKPKk"
      },
      "execution_count": 216,
      "outputs": []
    },
    {
      "cell_type": "code",
      "source": [
        "wsvc.fit(X_train,y_train)\n",
        "y_pred_wsvc= wsvc.predict(X_test)"
      ],
      "metadata": {
        "id": "rx0B6DXRKY6b"
      },
      "execution_count": 217,
      "outputs": []
    },
    {
      "cell_type": "code",
      "source": [
        "print(classification_report(y_test,y_pred_wsvc))"
      ],
      "metadata": {
        "colab": {
          "base_uri": "https://localhost:8080/"
        },
        "id": "4lqN0_ctKb2u",
        "outputId": "568bdb6f-f490-46fc-e7fa-60dea3bfebb2"
      },
      "execution_count": 218,
      "outputs": [
        {
          "output_type": "stream",
          "name": "stdout",
          "text": [
            "              precision    recall  f1-score   support\n",
            "\n",
            "           0       0.81      0.88      0.84       869\n",
            "           1       0.82      0.72      0.76       654\n",
            "\n",
            "    accuracy                           0.81      1523\n",
            "   macro avg       0.81      0.80      0.80      1523\n",
            "weighted avg       0.81      0.81      0.81      1523\n",
            "\n"
          ]
        }
      ]
    },
    {
      "cell_type": "markdown",
      "source": [
        "#Logistic Regression"
      ],
      "metadata": {
        "id": "Mq4IGiEi_FD1"
      }
    },
    {
      "cell_type": "code",
      "source": [
        "wlr=LogisticRegression()\n",
        "wlr.fit(X_train,y_train)\n",
        "y_pred_wlr=wlr.predict(X_test)"
      ],
      "metadata": {
        "id": "Ua7A6kVu-B-w"
      },
      "execution_count": 219,
      "outputs": []
    },
    {
      "cell_type": "code",
      "source": [
        "print(classification_report(y_test,y_pred_wlr))"
      ],
      "metadata": {
        "colab": {
          "base_uri": "https://localhost:8080/"
        },
        "outputId": "504b4c68-77fa-4014-9074-1f61790d78d2",
        "id": "NTEL_oQG-B-0"
      },
      "execution_count": 220,
      "outputs": [
        {
          "output_type": "stream",
          "name": "stdout",
          "text": [
            "              precision    recall  f1-score   support\n",
            "\n",
            "           0       0.82      0.88      0.85       869\n",
            "           1       0.82      0.74      0.78       654\n",
            "\n",
            "    accuracy                           0.82      1523\n",
            "   macro avg       0.82      0.81      0.81      1523\n",
            "weighted avg       0.82      0.82      0.82      1523\n",
            "\n"
          ]
        }
      ]
    },
    {
      "cell_type": "markdown",
      "source": [
        "#Random Forest Classifier"
      ],
      "metadata": {
        "id": "EfrNpOsg-9sP"
      }
    },
    {
      "cell_type": "code",
      "source": [
        "wrfc = RandomForestClassifier(criterion='entropy', n_estimators=200).fit(X_train, y_train)\n",
        "y_pred_wrfc=wrfc.predict(X_test)"
      ],
      "metadata": {
        "id": "ddRAs97K-LuQ"
      },
      "execution_count": 221,
      "outputs": []
    },
    {
      "cell_type": "code",
      "source": [
        "print(classification_report(y_test,y_pred_wrfc))"
      ],
      "metadata": {
        "colab": {
          "base_uri": "https://localhost:8080/"
        },
        "outputId": "070a58a2-2db8-47da-9b7c-1989d4c22f20",
        "id": "JmHWV8-F-LuU"
      },
      "execution_count": 222,
      "outputs": [
        {
          "output_type": "stream",
          "name": "stdout",
          "text": [
            "              precision    recall  f1-score   support\n",
            "\n",
            "           0       0.79      0.90      0.84       869\n",
            "           1       0.83      0.68      0.75       654\n",
            "\n",
            "    accuracy                           0.80      1523\n",
            "   macro avg       0.81      0.79      0.79      1523\n",
            "weighted avg       0.81      0.80      0.80      1523\n",
            "\n"
          ]
        }
      ]
    },
    {
      "cell_type": "markdown",
      "source": [
        "# Processed Text"
      ],
      "metadata": {
        "id": "9WMHD8PbDr6i"
      }
    },
    {
      "cell_type": "code",
      "source": [
        "df['vec1']=df['pro_text'].apply(lambda x : get_vec(str(x)))"
      ],
      "metadata": {
        "id": "MJA7wqCT-OHh"
      },
      "execution_count": 223,
      "outputs": []
    },
    {
      "cell_type": "code",
      "source": [
        "Y1=df['target']"
      ],
      "metadata": {
        "id": "y_V53IqEA48Q"
      },
      "execution_count": 224,
      "outputs": []
    },
    {
      "cell_type": "code",
      "source": [
        "X1=df['vec1'].to_numpy()\n",
        "X1=X1.reshape(-1,1)\n",
        "X1.shape"
      ],
      "metadata": {
        "colab": {
          "base_uri": "https://localhost:8080/"
        },
        "id": "-wxecesEADon",
        "outputId": "5834348d-cadb-45e1-a5ff-716e82a39191"
      },
      "execution_count": 225,
      "outputs": [
        {
          "output_type": "execute_result",
          "data": {
            "text/plain": [
              "(7613, 1)"
            ]
          },
          "metadata": {},
          "execution_count": 225
        }
      ]
    },
    {
      "cell_type": "code",
      "source": [
        "X1=np.concatenate(np.concatenate(X1,axis=0),axis=0).reshape(-1,300)\n",
        "X1.shape"
      ],
      "metadata": {
        "colab": {
          "base_uri": "https://localhost:8080/"
        },
        "id": "PEh4iNYrAoS_",
        "outputId": "be2a353b-c4b8-4e50-bbff-997b97740bb4"
      },
      "execution_count": 226,
      "outputs": [
        {
          "output_type": "execute_result",
          "data": {
            "text/plain": [
              "(7613, 300)"
            ]
          },
          "metadata": {},
          "execution_count": 226
        }
      ]
    },
    {
      "cell_type": "code",
      "source": [
        "X_train,X_test,y_train,y_test=train_test_split(X1,Y1,test_size=0.2,random_state=0,stratify=Y1)\n",
        "X_train.shape,X_test.shape"
      ],
      "metadata": {
        "colab": {
          "base_uri": "https://localhost:8080/"
        },
        "id": "tLXyDgw5BIWy",
        "outputId": "2b8cf6cf-5829-48e2-e1fc-f579a7a785e0"
      },
      "execution_count": 227,
      "outputs": [
        {
          "output_type": "execute_result",
          "data": {
            "text/plain": [
              "((6090, 300), (1523, 300))"
            ]
          },
          "metadata": {},
          "execution_count": 227
        }
      ]
    },
    {
      "cell_type": "markdown",
      "source": [
        "#Support Vector Classification"
      ],
      "metadata": {
        "id": "bigLKujCBi8N"
      }
    },
    {
      "cell_type": "code",
      "source": [
        "wsvc1=LinearSVC()"
      ],
      "metadata": {
        "id": "-ULdXPQtBi8Q"
      },
      "execution_count": 228,
      "outputs": []
    },
    {
      "cell_type": "code",
      "source": [
        "wsvc1.fit(X_train,y_train)\n",
        "y_pred_wsvc1= wsvc1.predict(X_test)"
      ],
      "metadata": {
        "colab": {
          "base_uri": "https://localhost:8080/"
        },
        "id": "Vdsf-7JpBi8T",
        "outputId": "62cb4de6-d624-441a-d96b-5cb41cff669e"
      },
      "execution_count": 229,
      "outputs": [
        {
          "output_type": "stream",
          "name": "stderr",
          "text": [
            "/usr/local/lib/python3.7/dist-packages/sklearn/svm/_base.py:1208: ConvergenceWarning: Liblinear failed to converge, increase the number of iterations.\n",
            "  ConvergenceWarning,\n"
          ]
        }
      ]
    },
    {
      "cell_type": "code",
      "source": [
        "print(classification_report(y_test,y_pred_wsvc1))"
      ],
      "metadata": {
        "colab": {
          "base_uri": "https://localhost:8080/"
        },
        "outputId": "d7e467c2-6655-454a-efc9-d782fb2dca0d",
        "id": "9iLpQCdoBi8W"
      },
      "execution_count": 230,
      "outputs": [
        {
          "output_type": "stream",
          "name": "stdout",
          "text": [
            "              precision    recall  f1-score   support\n",
            "\n",
            "           0       0.80      0.85      0.82       869\n",
            "           1       0.78      0.71      0.75       654\n",
            "\n",
            "    accuracy                           0.79      1523\n",
            "   macro avg       0.79      0.78      0.79      1523\n",
            "weighted avg       0.79      0.79      0.79      1523\n",
            "\n"
          ]
        }
      ]
    },
    {
      "cell_type": "markdown",
      "source": [
        "#Logistic Regression"
      ],
      "metadata": {
        "id": "sSpdgZPeBi8a"
      }
    },
    {
      "cell_type": "code",
      "source": [
        "wlr1=LogisticRegression()\n",
        "wlr1.fit(X_train,y_train)\n",
        "y_pred_wlr1=wlr1.predict(X_test)"
      ],
      "metadata": {
        "id": "GZf7ViNSBi8c"
      },
      "execution_count": 231,
      "outputs": []
    },
    {
      "cell_type": "code",
      "source": [
        "print(classification_report(y_test,y_pred_wlr1))"
      ],
      "metadata": {
        "colab": {
          "base_uri": "https://localhost:8080/"
        },
        "outputId": "e8f7700b-b068-4245-ed38-6f7663221298",
        "id": "eSWLD9TxBi8d"
      },
      "execution_count": 232,
      "outputs": [
        {
          "output_type": "stream",
          "name": "stdout",
          "text": [
            "              precision    recall  f1-score   support\n",
            "\n",
            "           0       0.80      0.85      0.83       869\n",
            "           1       0.79      0.72      0.75       654\n",
            "\n",
            "    accuracy                           0.79      1523\n",
            "   macro avg       0.79      0.78      0.79      1523\n",
            "weighted avg       0.79      0.79      0.79      1523\n",
            "\n"
          ]
        }
      ]
    },
    {
      "cell_type": "markdown",
      "source": [
        "#Random Forest Classifier"
      ],
      "metadata": {
        "id": "sb9ngWz1Bi8e"
      }
    },
    {
      "cell_type": "code",
      "source": [
        "wrfc1 = RandomForestClassifier(criterion='entropy', n_estimators=200).fit(X_train, y_train)\n",
        "y_pred_wrfc1=wrfc1.predict(X_test)"
      ],
      "metadata": {
        "id": "zcii9URDBi8f"
      },
      "execution_count": 233,
      "outputs": []
    },
    {
      "cell_type": "code",
      "source": [
        "print(classification_report(y_test,y_pred_wrfc1))"
      ],
      "metadata": {
        "colab": {
          "base_uri": "https://localhost:8080/"
        },
        "outputId": "26942e99-c96f-4b8b-a609-af91a0059b33",
        "id": "nCNRVgIZBi8g"
      },
      "execution_count": 234,
      "outputs": [
        {
          "output_type": "stream",
          "name": "stdout",
          "text": [
            "              precision    recall  f1-score   support\n",
            "\n",
            "           0       0.78      0.89      0.83       869\n",
            "           1       0.82      0.67      0.74       654\n",
            "\n",
            "    accuracy                           0.80      1523\n",
            "   macro avg       0.80      0.78      0.79      1523\n",
            "weighted avg       0.80      0.80      0.79      1523\n",
            "\n"
          ]
        }
      ]
    }
  ]
}