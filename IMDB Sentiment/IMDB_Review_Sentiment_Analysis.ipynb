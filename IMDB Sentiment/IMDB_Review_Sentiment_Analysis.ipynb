{
  "nbformat": 4,
  "nbformat_minor": 0,
  "metadata": {
    "colab": {
      "name": "IMDB Review Sentiment Analysis.ipynb",
      "provenance": [],
      "collapsed_sections": []
    },
    "kernelspec": {
      "name": "python3",
      "display_name": "Python 3"
    },
    "language_info": {
      "name": "python"
    }
  },
  "cells": [
    {
      "cell_type": "markdown",
      "source": [
        "#IMDB Review Sentiment"
      ],
      "metadata": {
        "id": "jzHC06jc9hm_"
      }
    },
    {
      "cell_type": "markdown",
      "source": [
        "Library"
      ],
      "metadata": {
        "id": "tuq3q0ao9wMj"
      }
    },
    {
      "cell_type": "code",
      "source": [
        "# !python -m spacy download en_core_web_lg"
      ],
      "metadata": {
        "id": "mWbsZeoqW6Ha"
      },
      "execution_count": 1,
      "outputs": []
    },
    {
      "cell_type": "code",
      "execution_count": 2,
      "metadata": {
        "id": "dLxqZ7u93O7O",
        "colab": {
          "base_uri": "https://localhost:8080/"
        },
        "outputId": "d2288c33-66f6-4c9c-ec00-a8458239aac0"
      },
      "outputs": [
        {
          "output_type": "stream",
          "name": "stdout",
          "text": [
            "[nltk_data] Downloading package stopwords to /root/nltk_data...\n",
            "[nltk_data]   Package stopwords is already up-to-date!\n",
            "[nltk_data] Downloading package wordnet to /root/nltk_data...\n",
            "[nltk_data]   Package wordnet is already up-to-date!\n"
          ]
        }
      ],
      "source": [
        "import pandas as pd # data frame\n",
        "import numpy as np # array processing\n",
        "from nltk.tokenize import word_tokenize # Tokenizing words\n",
        "from nltk.corpus import stopwords  # stopwords\n",
        "from nltk.stem import WordNetLemmatizer  #Lemmetization\n",
        "lem = WordNetLemmatizer() #Lemmetization object\n",
        "from sklearn.model_selection import train_test_split # Test train split\n",
        "from sklearn.linear_model import LogisticRegression # classification model feature Base methord\n",
        "from sklearn.svm import LinearSVC #Classification model feature Base Methord\n",
        "from sklearn.ensemble import RandomForestClassifier\n",
        "from sklearn.metrics import classification_report,confusion_matrix # Verification metrics\n",
        "from wordcloud import WordCloud # wordcloud\n",
        "from sklearn.feature_extraction.text import TfidfVectorizer #word to vector\n",
        "import matplotlib.pyplot as plt #plot\n",
        "import seaborn as sns #plot \n",
        "import re\n",
        "import nltk\n",
        "nltk.download('stopwords')\n",
        "nltk.download('wordnet')\n",
        "stopWords = set(stopwords.words('english')) #Downloading Stopwords in stopWords\n",
        "from sklearn.model_selection import GridSearchCV"
      ]
    },
    {
      "cell_type": "code",
      "source": [
        "from google.colab import drive\n",
        "drive.mount('/content/drive')"
      ],
      "metadata": {
        "colab": {
          "base_uri": "https://localhost:8080/"
        },
        "id": "nfW6oaozCkXL",
        "outputId": "927c5390-1b6b-485f-b7cd-b679fc979adb"
      },
      "execution_count": 3,
      "outputs": [
        {
          "output_type": "stream",
          "name": "stdout",
          "text": [
            "Drive already mounted at /content/drive; to attempt to forcibly remount, call drive.mount(\"/content/drive\", force_remount=True).\n"
          ]
        }
      ]
    },
    {
      "cell_type": "code",
      "source": [
        "df=pd.read_csv('/content/drive/MyDrive/imdb_reviews.txt',sep='\\t',header=None)\n",
        "df.head(2)"
      ],
      "metadata": {
        "id": "NMX-EoIa3qpG",
        "colab": {
          "base_uri": "https://localhost:8080/",
          "height": 112
        },
        "outputId": "7b781656-3504-49b0-8f20-11471bdfe755"
      },
      "execution_count": 4,
      "outputs": [
        {
          "output_type": "execute_result",
          "data": {
            "text/plain": [
              "                                                   0  1\n",
              "0  A very, very, very slow-moving, aimless movie ...  0\n",
              "1  Not sure who was more lost - the flat characte...  0"
            ],
            "text/html": [
              "\n",
              "  <div id=\"df-9f0c6e5c-bf12-4a66-9969-bb1f67f2bfcb\">\n",
              "    <div class=\"colab-df-container\">\n",
              "      <div>\n",
              "<style scoped>\n",
              "    .dataframe tbody tr th:only-of-type {\n",
              "        vertical-align: middle;\n",
              "    }\n",
              "\n",
              "    .dataframe tbody tr th {\n",
              "        vertical-align: top;\n",
              "    }\n",
              "\n",
              "    .dataframe thead th {\n",
              "        text-align: right;\n",
              "    }\n",
              "</style>\n",
              "<table border=\"1\" class=\"dataframe\">\n",
              "  <thead>\n",
              "    <tr style=\"text-align: right;\">\n",
              "      <th></th>\n",
              "      <th>0</th>\n",
              "      <th>1</th>\n",
              "    </tr>\n",
              "  </thead>\n",
              "  <tbody>\n",
              "    <tr>\n",
              "      <th>0</th>\n",
              "      <td>A very, very, very slow-moving, aimless movie ...</td>\n",
              "      <td>0</td>\n",
              "    </tr>\n",
              "    <tr>\n",
              "      <th>1</th>\n",
              "      <td>Not sure who was more lost - the flat characte...</td>\n",
              "      <td>0</td>\n",
              "    </tr>\n",
              "  </tbody>\n",
              "</table>\n",
              "</div>\n",
              "      <button class=\"colab-df-convert\" onclick=\"convertToInteractive('df-9f0c6e5c-bf12-4a66-9969-bb1f67f2bfcb')\"\n",
              "              title=\"Convert this dataframe to an interactive table.\"\n",
              "              style=\"display:none;\">\n",
              "        \n",
              "  <svg xmlns=\"http://www.w3.org/2000/svg\" height=\"24px\"viewBox=\"0 0 24 24\"\n",
              "       width=\"24px\">\n",
              "    <path d=\"M0 0h24v24H0V0z\" fill=\"none\"/>\n",
              "    <path d=\"M18.56 5.44l.94 2.06.94-2.06 2.06-.94-2.06-.94-.94-2.06-.94 2.06-2.06.94zm-11 1L8.5 8.5l.94-2.06 2.06-.94-2.06-.94L8.5 2.5l-.94 2.06-2.06.94zm10 10l.94 2.06.94-2.06 2.06-.94-2.06-.94-.94-2.06-.94 2.06-2.06.94z\"/><path d=\"M17.41 7.96l-1.37-1.37c-.4-.4-.92-.59-1.43-.59-.52 0-1.04.2-1.43.59L10.3 9.45l-7.72 7.72c-.78.78-.78 2.05 0 2.83L4 21.41c.39.39.9.59 1.41.59.51 0 1.02-.2 1.41-.59l7.78-7.78 2.81-2.81c.8-.78.8-2.07 0-2.86zM5.41 20L4 18.59l7.72-7.72 1.47 1.35L5.41 20z\"/>\n",
              "  </svg>\n",
              "      </button>\n",
              "      \n",
              "  <style>\n",
              "    .colab-df-container {\n",
              "      display:flex;\n",
              "      flex-wrap:wrap;\n",
              "      gap: 12px;\n",
              "    }\n",
              "\n",
              "    .colab-df-convert {\n",
              "      background-color: #E8F0FE;\n",
              "      border: none;\n",
              "      border-radius: 50%;\n",
              "      cursor: pointer;\n",
              "      display: none;\n",
              "      fill: #1967D2;\n",
              "      height: 32px;\n",
              "      padding: 0 0 0 0;\n",
              "      width: 32px;\n",
              "    }\n",
              "\n",
              "    .colab-df-convert:hover {\n",
              "      background-color: #E2EBFA;\n",
              "      box-shadow: 0px 1px 2px rgba(60, 64, 67, 0.3), 0px 1px 3px 1px rgba(60, 64, 67, 0.15);\n",
              "      fill: #174EA6;\n",
              "    }\n",
              "\n",
              "    [theme=dark] .colab-df-convert {\n",
              "      background-color: #3B4455;\n",
              "      fill: #D2E3FC;\n",
              "    }\n",
              "\n",
              "    [theme=dark] .colab-df-convert:hover {\n",
              "      background-color: #434B5C;\n",
              "      box-shadow: 0px 1px 3px 1px rgba(0, 0, 0, 0.15);\n",
              "      filter: drop-shadow(0px 1px 2px rgba(0, 0, 0, 0.3));\n",
              "      fill: #FFFFFF;\n",
              "    }\n",
              "  </style>\n",
              "\n",
              "      <script>\n",
              "        const buttonEl =\n",
              "          document.querySelector('#df-9f0c6e5c-bf12-4a66-9969-bb1f67f2bfcb button.colab-df-convert');\n",
              "        buttonEl.style.display =\n",
              "          google.colab.kernel.accessAllowed ? 'block' : 'none';\n",
              "\n",
              "        async function convertToInteractive(key) {\n",
              "          const element = document.querySelector('#df-9f0c6e5c-bf12-4a66-9969-bb1f67f2bfcb');\n",
              "          const dataTable =\n",
              "            await google.colab.kernel.invokeFunction('convertToInteractive',\n",
              "                                                     [key], {});\n",
              "          if (!dataTable) return;\n",
              "\n",
              "          const docLinkHtml = 'Like what you see? Visit the ' +\n",
              "            '<a target=\"_blank\" href=https://colab.research.google.com/notebooks/data_table.ipynb>data table notebook</a>'\n",
              "            + ' to learn more about interactive tables.';\n",
              "          element.innerHTML = '';\n",
              "          dataTable['output_type'] = 'display_data';\n",
              "          await google.colab.output.renderOutput(dataTable, element);\n",
              "          const docLink = document.createElement('div');\n",
              "          docLink.innerHTML = docLinkHtml;\n",
              "          element.appendChild(docLink);\n",
              "        }\n",
              "      </script>\n",
              "    </div>\n",
              "  </div>\n",
              "  "
            ]
          },
          "metadata": {},
          "execution_count": 4
        }
      ]
    },
    {
      "cell_type": "markdown",
      "source": [
        "#Text Preprocessing"
      ],
      "metadata": {
        "id": "GFbG7fQL2jf5"
      }
    },
    {
      "cell_type": "code",
      "source": [
        "contractions = {\n",
        "\"ain't\": \"am not\",\n",
        "\"aren't\": \"are not\",\n",
        "\"can't\": \"cannot\",\n",
        "\"can't've\": \"cannot have\",\n",
        "\"'cause\": \"because\",\n",
        "\"could've\": \"could have\",\n",
        "\"couldn't\": \"could not\",\n",
        "\"couldn't've\": \"could not have\",\n",
        "\"didn't\": \"did not\",\n",
        "\"doesn't\": \"does not\",\n",
        "\"don't\": \"do not\",\n",
        "\"hadn't\": \"had not\",\n",
        "\"hadn't've\": \"had not have\",\n",
        "\"hasn't\": \"has not\",\n",
        "\"haven't\": \"have not\",\n",
        "\"he'd\": \"he would\",\n",
        "\"he'd've\": \"he would have\",\n",
        "\"he'll\": \"he will\",\n",
        "\"he'll've\": \"he will have\",\n",
        "\"he's\": \"he is\",\n",
        "\"how'd\": \"how did\",\n",
        "\"how'd'y\": \"how do you\",\n",
        "\"how'll\": \"how will\",\n",
        "\"how's\": \"how does\",\n",
        "\"i'd\": \"i would\",\n",
        "\"i'd've\": \"i would have\",\n",
        "\"i'll\": \"i will\",\n",
        "\"i'll've\": \"i will have\",\n",
        "\"i'm\": \"i am\",\n",
        "\"i've\": \"i have\",\n",
        "\"isn't\": \"is not\",\n",
        "\"it'd\": \"it would\",\n",
        "\"it'd've\": \"it would have\",\n",
        "\"it'll\": \"it will\",\n",
        "\"it'll've\": \"it will have\",\n",
        "\"it's\": \"it is\",\n",
        "\"let's\": \"let us\",\n",
        "\"ma'am\": \"madam\",\n",
        "\"mayn't\": \"may not\",\n",
        "\"might've\": \"might have\",\n",
        "\"mightn't\": \"might not\",\n",
        "\"mightn't've\": \"might not have\",\n",
        "\"must've\": \"must have\",\n",
        "\"mustn't\": \"must not\",\n",
        "\"mustn't've\": \"must not have\",\n",
        "\"needn't\": \"need not\",\n",
        "\"needn't've\": \"need not have\",\n",
        "\"o'clock\": \"of the clock\",\n",
        "\"oughtn't\": \"ought not\",\n",
        "\"oughtn't've\": \"ought not have\",\n",
        "\"shan't\": \"shall not\",\n",
        "\"sha'n't\": \"shall not\",\n",
        "\"shan't've\": \"shall not have\",\n",
        "\"she'd\": \"she would\",\n",
        "\"she'd've\": \"she would have\",\n",
        "\"she'll\": \"she will\",\n",
        "\"she'll've\": \"she will have\",\n",
        "\"she's\": \"she is\",\n",
        "\"should've\": \"should have\",\n",
        "\"shouldn't\": \"should not\",\n",
        "\"shouldn't've\": \"should not have\",\n",
        "\"so've\": \"so have\",\n",
        "\"so's\": \"so is\",\n",
        "\"that'd\": \"that would\",\n",
        "\"that'd've\": \"that would have\",\n",
        "\"that's\": \"that is\",\n",
        "\"there'd\": \"there would\",\n",
        "\"there'd've\": \"there would have\",\n",
        "\"there's\": \"there is\",\n",
        "\"they'd\": \"they would\",\n",
        "\"they'd've\": \"they would have\",\n",
        "\"they'll\": \"they will\",\n",
        "\"they'll've\": \"they will have\",\n",
        "\"they're\": \"they are\",\n",
        "\"they've\": \"they have\",\n",
        "\"to've\": \"to have\",\n",
        "\"wasn't\": \"was not\",\n",
        "\" u \": \" you \",\n",
        "\" ur \": \" your \",\n",
        "\" n \": \" and \",\n",
        "\"won't\": \"would not\",\n",
        "\"wouldn't\": \"would not\",\n",
        "'dis': 'this',\n",
        "'bak': 'back',\n",
        "'brng': 'bring'}"
      ],
      "metadata": {
        "id": "zhoIqAJLVDSo"
      },
      "execution_count": 5,
      "outputs": []
    },
    {
      "cell_type": "code",
      "source": [
        "def cont_to_exp(x):\n",
        "  if x in contractions.keys():\n",
        "    value=contractions[x]\n",
        "  else:\n",
        "    value=x\n",
        "  return value"
      ],
      "metadata": {
        "id": "s0gJyrF6VKDW"
      },
      "execution_count": 6,
      "outputs": []
    },
    {
      "cell_type": "code",
      "source": [
        "def preprocess(x):\n",
        "\n",
        "  x = x.lower()\n",
        "  x = ' '.join(list((cont_to_exp(t) for t in x.split())))\n",
        "  x = re.sub('[^a-zA-Z]', ' ',x)\n",
        "  x = re.sub('(http|https|ftp|ssh)://([\\w_-]+(?:(?:\\.[\\w_-]+)+))([\\w.,@?^=%&:/~+#-]*[\\w@?^=%&/~+#-])?','', x)\n",
        "  x = re.sub('([a-z0-9+._-]+@[a-z0-9+._-]+\\.[a-z0-9+_-]+)','',x)\n",
        "  x = re.sub('[\\W+]', ' ', x)\n",
        "  x = ' '.join(list((lem.lemmatize(t) for t in x.split() if t not in stopWords)))\n",
        "  x = ' '.join(list((t for t in x.split() if len(t)>1)))\n",
        "  return x"
      ],
      "metadata": {
        "id": "yEPpwAHaTKCq"
      },
      "execution_count": 7,
      "outputs": []
    },
    {
      "cell_type": "code",
      "source": [
        "df['pro_text']=df[0].apply(lambda x :  preprocess(x))"
      ],
      "metadata": {
        "id": "tkg8DAqUVZxj"
      },
      "execution_count": 8,
      "outputs": []
    },
    {
      "cell_type": "code",
      "source": [
        "X1=df['pro_text']\n",
        "y1=df[1]"
      ],
      "metadata": {
        "id": "te65uMtVg8Dc"
      },
      "execution_count": 9,
      "outputs": []
    },
    {
      "cell_type": "markdown",
      "source": [
        "#TFIDF Vectoriser"
      ],
      "metadata": {
        "id": "ET06yO_AvfT3"
      }
    },
    {
      "cell_type": "code",
      "source": [
        "tf=TfidfVectorizer(max_features=1240)\n",
        "text_tf= tf.fit_transform(X1)"
      ],
      "metadata": {
        "id": "W_5JJCzH0TgO"
      },
      "execution_count": 10,
      "outputs": []
    },
    {
      "cell_type": "code",
      "source": [
        "X, X_test, y, y_test = train_test_split(text_tf, y1, test_size=0.2, random_state=0)"
      ],
      "metadata": {
        "id": "UjaeP5j2CXI6"
      },
      "execution_count": 11,
      "outputs": []
    },
    {
      "cell_type": "markdown",
      "source": [
        "#Support Vector Classifier"
      ],
      "metadata": {
        "id": "agAbvQ5RvjzV"
      }
    },
    {
      "cell_type": "code",
      "source": [
        "lsvc=LinearSVC()\n",
        "hyperparameters={'penalty':['l1','l2'],'C':(1,2,3,4)}\n",
        "svc=GridSearchCV(lsvc,hyperparameters,n_jobs=-1,cv=5)\n",
        "svc.fit(X,y)\n",
        "y_pred_svc = svc.predict(X_test)"
      ],
      "metadata": {
        "id": "HwqqKa_QxNpX",
        "colab": {
          "base_uri": "https://localhost:8080/"
        },
        "outputId": "1ef4511d-9f25-4b35-f040-f5efb86ec207"
      },
      "execution_count": 12,
      "outputs": [
        {
          "output_type": "stream",
          "name": "stderr",
          "text": [
            "/usr/local/lib/python3.7/dist-packages/sklearn/model_selection/_validation.py:372: FitFailedWarning: \n",
            "20 fits failed out of a total of 40.\n",
            "The score on these train-test partitions for these parameters will be set to nan.\n",
            "If these failures are not expected, you can try to debug them by setting error_score='raise'.\n",
            "\n",
            "Below are more details about the failures:\n",
            "--------------------------------------------------------------------------------\n",
            "20 fits failed with the following error:\n",
            "Traceback (most recent call last):\n",
            "  File \"/usr/local/lib/python3.7/dist-packages/sklearn/model_selection/_validation.py\", line 680, in _fit_and_score\n",
            "    estimator.fit(X_train, y_train, **fit_params)\n",
            "  File \"/usr/local/lib/python3.7/dist-packages/sklearn/svm/_classes.py\", line 272, in fit\n",
            "    sample_weight=sample_weight,\n",
            "  File \"/usr/local/lib/python3.7/dist-packages/sklearn/svm/_base.py\", line 1185, in _fit_liblinear\n",
            "    solver_type = _get_liblinear_solver_type(multi_class, penalty, loss, dual)\n",
            "  File \"/usr/local/lib/python3.7/dist-packages/sklearn/svm/_base.py\", line 1026, in _get_liblinear_solver_type\n",
            "    % (error_string, penalty, loss, dual)\n",
            "ValueError: Unsupported set of arguments: The combination of penalty='l1' and loss='squared_hinge' are not supported when dual=True, Parameters: penalty='l1', loss='squared_hinge', dual=True\n",
            "\n",
            "  warnings.warn(some_fits_failed_message, FitFailedWarning)\n",
            "/usr/local/lib/python3.7/dist-packages/sklearn/model_selection/_search.py:972: UserWarning: One or more of the test scores are non-finite: [       nan 0.78271709        nan 0.78109244        nan 0.77439776\n",
            "        nan 0.77439776]\n",
            "  category=UserWarning,\n"
          ]
        }
      ]
    },
    {
      "cell_type": "code",
      "source": [
        "svc.best_params_"
      ],
      "metadata": {
        "colab": {
          "base_uri": "https://localhost:8080/"
        },
        "id": "8VyVNkarn7V5",
        "outputId": "39f52acf-9585-412a-940b-0e37b3bf2eab"
      },
      "execution_count": 13,
      "outputs": [
        {
          "output_type": "execute_result",
          "data": {
            "text/plain": [
              "{'C': 1, 'penalty': 'l2'}"
            ]
          },
          "metadata": {},
          "execution_count": 13
        }
      ]
    },
    {
      "cell_type": "code",
      "source": [
        "print(classification_report(y_test,y_pred_svc))"
      ],
      "metadata": {
        "colab": {
          "base_uri": "https://localhost:8080/"
        },
        "id": "mS-VFINtHGCI",
        "outputId": "f1befe65-2193-4f7f-ad08-e309be3f7391"
      },
      "execution_count": 14,
      "outputs": [
        {
          "output_type": "stream",
          "name": "stdout",
          "text": [
            "              precision    recall  f1-score   support\n",
            "\n",
            "           0       0.87      0.70      0.78        84\n",
            "           1       0.70      0.86      0.77        66\n",
            "\n",
            "    accuracy                           0.77       150\n",
            "   macro avg       0.78      0.78      0.77       150\n",
            "weighted avg       0.79      0.77      0.77       150\n",
            "\n"
          ]
        }
      ]
    },
    {
      "cell_type": "markdown",
      "source": [
        "#Logistic Regression"
      ],
      "metadata": {
        "id": "EDOL6qo7vrJF"
      }
    },
    {
      "cell_type": "code",
      "source": [
        "LR=LogisticRegression(solver='liblinear')\n",
        "hyperparameters={'penalty':['l1','l2'],'C':(1,2,3,4)}\n",
        "lr=GridSearchCV(LR,hyperparameters,n_jobs=-1,cv=5)\n",
        "lr.fit(X,y)\n",
        "y_pred_lr=lr.predict(X_test)#0.71"
      ],
      "metadata": {
        "id": "dWqDKgbHZ-JR"
      },
      "execution_count": 15,
      "outputs": []
    },
    {
      "cell_type": "code",
      "source": [
        "lr.best_params_"
      ],
      "metadata": {
        "colab": {
          "base_uri": "https://localhost:8080/"
        },
        "id": "xN47XSA0LBH5",
        "outputId": "2332282a-66b8-44bb-84b0-724b4b576a85"
      },
      "execution_count": 16,
      "outputs": [
        {
          "output_type": "execute_result",
          "data": {
            "text/plain": [
              "{'C': 4, 'penalty': 'l2'}"
            ]
          },
          "metadata": {},
          "execution_count": 16
        }
      ]
    },
    {
      "cell_type": "code",
      "source": [
        "print(classification_report(y_test,y_pred_lr))"
      ],
      "metadata": {
        "colab": {
          "base_uri": "https://localhost:8080/"
        },
        "id": "UF-quC8Zajxb",
        "outputId": "93fb5a10-dff4-4826-e8f9-3c42c10939e7"
      },
      "execution_count": 17,
      "outputs": [
        {
          "output_type": "stream",
          "name": "stdout",
          "text": [
            "              precision    recall  f1-score   support\n",
            "\n",
            "           0       0.88      0.67      0.76        84\n",
            "           1       0.67      0.88      0.76        66\n",
            "\n",
            "    accuracy                           0.76       150\n",
            "   macro avg       0.77      0.77      0.76       150\n",
            "weighted avg       0.79      0.76      0.76       150\n",
            "\n"
          ]
        }
      ]
    },
    {
      "cell_type": "markdown",
      "source": [
        "#Random Forest Classifier"
      ],
      "metadata": {
        "id": "pMTV7bpgvvMN"
      }
    },
    {
      "cell_type": "code",
      "source": [
        "# RFC = RandomForestClassifier(criterion='entropy', n_estimators=200).fit(X, y)\n",
        "RFC= RandomForestClassifier()\n",
        "hyperparameters={'n_estimators': [100,200,300,400,500],'criterion' :['gini', 'entropy']}\n",
        "rfc=GridSearchCV(RFC,hyperparameters,n_jobs=-1,cv=5)\n",
        "rfc.fit(X,y)\n",
        "y_pred_rfc=rfc.predict(X_test)#0.63"
      ],
      "metadata": {
        "id": "yQ-g8qODa4aj"
      },
      "execution_count": 18,
      "outputs": []
    },
    {
      "cell_type": "code",
      "source": [
        "print(classification_report(y_test,y_pred_rfc))"
      ],
      "metadata": {
        "colab": {
          "base_uri": "https://localhost:8080/"
        },
        "id": "uthbx-IubLb3",
        "outputId": "f03d24cb-7a43-45f7-cb64-b25435d2ce31"
      },
      "execution_count": 19,
      "outputs": [
        {
          "output_type": "stream",
          "name": "stdout",
          "text": [
            "              precision    recall  f1-score   support\n",
            "\n",
            "           0       0.78      0.54      0.63        84\n",
            "           1       0.58      0.80      0.67        66\n",
            "\n",
            "    accuracy                           0.65       150\n",
            "   macro avg       0.68      0.67      0.65       150\n",
            "weighted avg       0.69      0.65      0.65       150\n",
            "\n"
          ]
        }
      ]
    },
    {
      "cell_type": "code",
      "source": [
        "rfc.best_params_"
      ],
      "metadata": {
        "colab": {
          "base_uri": "https://localhost:8080/"
        },
        "id": "O6WzrkqnNN9a",
        "outputId": "82a0a54a-cadf-4931-b2ed-2227cb707c0c"
      },
      "execution_count": 20,
      "outputs": [
        {
          "output_type": "execute_result",
          "data": {
            "text/plain": [
              "{'criterion': 'entropy', 'n_estimators': 300}"
            ]
          },
          "metadata": {},
          "execution_count": 20
        }
      ]
    },
    {
      "cell_type": "code",
      "source": [
        "df"
      ],
      "metadata": {
        "colab": {
          "base_uri": "https://localhost:8080/",
          "height": 424
        },
        "id": "U09e05AtUDQs",
        "outputId": "c6780cf3-69f5-42d7-82ae-051aab79bb46"
      },
      "execution_count": 21,
      "outputs": [
        {
          "output_type": "execute_result",
          "data": {
            "text/plain": [
              "                                                     0  1  \\\n",
              "0    A very, very, very slow-moving, aimless movie ...  0   \n",
              "1    Not sure who was more lost - the flat characte...  0   \n",
              "2    Attempting artiness with black & white and cle...  0   \n",
              "3         Very little music or anything to speak of.    0   \n",
              "4    The best scene in the movie was when Gerardo i...  1   \n",
              "..                                                 ... ..   \n",
              "743  I just got bored watching Jessice Lange take h...  0   \n",
              "744  Unfortunately, any virtue in this film's produ...  0   \n",
              "745                   In a word, it is embarrassing.    0   \n",
              "746                               Exceptionally bad!    0   \n",
              "747  All in all its an insult to one's intelligence...  0   \n",
              "\n",
              "                                              pro_text  \n",
              "0    slow moving aimless movie distressed drifting ...  \n",
              "1    sure lost flat character audience nearly half ...  \n",
              "2    attempting artiness black white clever camera ...  \n",
              "3                          little music anything speak  \n",
              "4    best scene movie gerardo trying find song keep...  \n",
              "..                                                 ...  \n",
              "743      got bored watching jessice lange take clothes  \n",
              "744  unfortunately virtue film production work lost...  \n",
              "745                                  word embarrassing  \n",
              "746                                  exceptionally bad  \n",
              "747           insult one intelligence huge waste money  \n",
              "\n",
              "[748 rows x 3 columns]"
            ],
            "text/html": [
              "\n",
              "  <div id=\"df-33925d6a-7b10-44ba-88ee-a644b50ecd64\">\n",
              "    <div class=\"colab-df-container\">\n",
              "      <div>\n",
              "<style scoped>\n",
              "    .dataframe tbody tr th:only-of-type {\n",
              "        vertical-align: middle;\n",
              "    }\n",
              "\n",
              "    .dataframe tbody tr th {\n",
              "        vertical-align: top;\n",
              "    }\n",
              "\n",
              "    .dataframe thead th {\n",
              "        text-align: right;\n",
              "    }\n",
              "</style>\n",
              "<table border=\"1\" class=\"dataframe\">\n",
              "  <thead>\n",
              "    <tr style=\"text-align: right;\">\n",
              "      <th></th>\n",
              "      <th>0</th>\n",
              "      <th>1</th>\n",
              "      <th>pro_text</th>\n",
              "    </tr>\n",
              "  </thead>\n",
              "  <tbody>\n",
              "    <tr>\n",
              "      <th>0</th>\n",
              "      <td>A very, very, very slow-moving, aimless movie ...</td>\n",
              "      <td>0</td>\n",
              "      <td>slow moving aimless movie distressed drifting ...</td>\n",
              "    </tr>\n",
              "    <tr>\n",
              "      <th>1</th>\n",
              "      <td>Not sure who was more lost - the flat characte...</td>\n",
              "      <td>0</td>\n",
              "      <td>sure lost flat character audience nearly half ...</td>\n",
              "    </tr>\n",
              "    <tr>\n",
              "      <th>2</th>\n",
              "      <td>Attempting artiness with black &amp; white and cle...</td>\n",
              "      <td>0</td>\n",
              "      <td>attempting artiness black white clever camera ...</td>\n",
              "    </tr>\n",
              "    <tr>\n",
              "      <th>3</th>\n",
              "      <td>Very little music or anything to speak of.</td>\n",
              "      <td>0</td>\n",
              "      <td>little music anything speak</td>\n",
              "    </tr>\n",
              "    <tr>\n",
              "      <th>4</th>\n",
              "      <td>The best scene in the movie was when Gerardo i...</td>\n",
              "      <td>1</td>\n",
              "      <td>best scene movie gerardo trying find song keep...</td>\n",
              "    </tr>\n",
              "    <tr>\n",
              "      <th>...</th>\n",
              "      <td>...</td>\n",
              "      <td>...</td>\n",
              "      <td>...</td>\n",
              "    </tr>\n",
              "    <tr>\n",
              "      <th>743</th>\n",
              "      <td>I just got bored watching Jessice Lange take h...</td>\n",
              "      <td>0</td>\n",
              "      <td>got bored watching jessice lange take clothes</td>\n",
              "    </tr>\n",
              "    <tr>\n",
              "      <th>744</th>\n",
              "      <td>Unfortunately, any virtue in this film's produ...</td>\n",
              "      <td>0</td>\n",
              "      <td>unfortunately virtue film production work lost...</td>\n",
              "    </tr>\n",
              "    <tr>\n",
              "      <th>745</th>\n",
              "      <td>In a word, it is embarrassing.</td>\n",
              "      <td>0</td>\n",
              "      <td>word embarrassing</td>\n",
              "    </tr>\n",
              "    <tr>\n",
              "      <th>746</th>\n",
              "      <td>Exceptionally bad!</td>\n",
              "      <td>0</td>\n",
              "      <td>exceptionally bad</td>\n",
              "    </tr>\n",
              "    <tr>\n",
              "      <th>747</th>\n",
              "      <td>All in all its an insult to one's intelligence...</td>\n",
              "      <td>0</td>\n",
              "      <td>insult one intelligence huge waste money</td>\n",
              "    </tr>\n",
              "  </tbody>\n",
              "</table>\n",
              "<p>748 rows × 3 columns</p>\n",
              "</div>\n",
              "      <button class=\"colab-df-convert\" onclick=\"convertToInteractive('df-33925d6a-7b10-44ba-88ee-a644b50ecd64')\"\n",
              "              title=\"Convert this dataframe to an interactive table.\"\n",
              "              style=\"display:none;\">\n",
              "        \n",
              "  <svg xmlns=\"http://www.w3.org/2000/svg\" height=\"24px\"viewBox=\"0 0 24 24\"\n",
              "       width=\"24px\">\n",
              "    <path d=\"M0 0h24v24H0V0z\" fill=\"none\"/>\n",
              "    <path d=\"M18.56 5.44l.94 2.06.94-2.06 2.06-.94-2.06-.94-.94-2.06-.94 2.06-2.06.94zm-11 1L8.5 8.5l.94-2.06 2.06-.94-2.06-.94L8.5 2.5l-.94 2.06-2.06.94zm10 10l.94 2.06.94-2.06 2.06-.94-2.06-.94-.94-2.06-.94 2.06-2.06.94z\"/><path d=\"M17.41 7.96l-1.37-1.37c-.4-.4-.92-.59-1.43-.59-.52 0-1.04.2-1.43.59L10.3 9.45l-7.72 7.72c-.78.78-.78 2.05 0 2.83L4 21.41c.39.39.9.59 1.41.59.51 0 1.02-.2 1.41-.59l7.78-7.78 2.81-2.81c.8-.78.8-2.07 0-2.86zM5.41 20L4 18.59l7.72-7.72 1.47 1.35L5.41 20z\"/>\n",
              "  </svg>\n",
              "      </button>\n",
              "      \n",
              "  <style>\n",
              "    .colab-df-container {\n",
              "      display:flex;\n",
              "      flex-wrap:wrap;\n",
              "      gap: 12px;\n",
              "    }\n",
              "\n",
              "    .colab-df-convert {\n",
              "      background-color: #E8F0FE;\n",
              "      border: none;\n",
              "      border-radius: 50%;\n",
              "      cursor: pointer;\n",
              "      display: none;\n",
              "      fill: #1967D2;\n",
              "      height: 32px;\n",
              "      padding: 0 0 0 0;\n",
              "      width: 32px;\n",
              "    }\n",
              "\n",
              "    .colab-df-convert:hover {\n",
              "      background-color: #E2EBFA;\n",
              "      box-shadow: 0px 1px 2px rgba(60, 64, 67, 0.3), 0px 1px 3px 1px rgba(60, 64, 67, 0.15);\n",
              "      fill: #174EA6;\n",
              "    }\n",
              "\n",
              "    [theme=dark] .colab-df-convert {\n",
              "      background-color: #3B4455;\n",
              "      fill: #D2E3FC;\n",
              "    }\n",
              "\n",
              "    [theme=dark] .colab-df-convert:hover {\n",
              "      background-color: #434B5C;\n",
              "      box-shadow: 0px 1px 3px 1px rgba(0, 0, 0, 0.15);\n",
              "      filter: drop-shadow(0px 1px 2px rgba(0, 0, 0, 0.3));\n",
              "      fill: #FFFFFF;\n",
              "    }\n",
              "  </style>\n",
              "\n",
              "      <script>\n",
              "        const buttonEl =\n",
              "          document.querySelector('#df-33925d6a-7b10-44ba-88ee-a644b50ecd64 button.colab-df-convert');\n",
              "        buttonEl.style.display =\n",
              "          google.colab.kernel.accessAllowed ? 'block' : 'none';\n",
              "\n",
              "        async function convertToInteractive(key) {\n",
              "          const element = document.querySelector('#df-33925d6a-7b10-44ba-88ee-a644b50ecd64');\n",
              "          const dataTable =\n",
              "            await google.colab.kernel.invokeFunction('convertToInteractive',\n",
              "                                                     [key], {});\n",
              "          if (!dataTable) return;\n",
              "\n",
              "          const docLinkHtml = 'Like what you see? Visit the ' +\n",
              "            '<a target=\"_blank\" href=https://colab.research.google.com/notebooks/data_table.ipynb>data table notebook</a>'\n",
              "            + ' to learn more about interactive tables.';\n",
              "          element.innerHTML = '';\n",
              "          dataTable['output_type'] = 'display_data';\n",
              "          await google.colab.output.renderOutput(dataTable, element);\n",
              "          const docLink = document.createElement('div');\n",
              "          docLink.innerHTML = docLinkHtml;\n",
              "          element.appendChild(docLink);\n",
              "        }\n",
              "      </script>\n",
              "    </div>\n",
              "  </div>\n",
              "  "
            ]
          },
          "metadata": {},
          "execution_count": 21
        }
      ]
    },
    {
      "cell_type": "markdown",
      "source": [
        "# Word2Vec"
      ],
      "metadata": {
        "id": "z_smtJpVvU7S"
      }
    },
    {
      "cell_type": "code",
      "source": [
        "import spacy"
      ],
      "metadata": {
        "id": "P8YnvFO8Wv-2"
      },
      "execution_count": 22,
      "outputs": []
    },
    {
      "cell_type": "code",
      "source": [
        "# spacy.cli.download(\"en_core_web_lg\")\n",
        "nlp=spacy.load('en_core_web_lg')"
      ],
      "metadata": {
        "id": "363XoZYHHeDs"
      },
      "execution_count": 23,
      "outputs": []
    },
    {
      "cell_type": "code",
      "source": [
        "def get_vec(x):\n",
        "  doc = nlp(x)\n",
        "  vec = doc.vector\n",
        "  return vec"
      ],
      "metadata": {
        "id": "k3jyNPvfHoqd"
      },
      "execution_count": 24,
      "outputs": []
    },
    {
      "cell_type": "code",
      "source": [
        "df['vec']=df[0].apply(lambda x : get_vec(str(x)))"
      ],
      "metadata": {
        "id": "6kBw9HyEJnW7"
      },
      "execution_count": 25,
      "outputs": []
    },
    {
      "cell_type": "markdown",
      "source": [
        "To increase the process speed "
      ],
      "metadata": {
        "id": "jVfF5F8Y3bO3"
      }
    },
    {
      "cell_type": "code",
      "source": [
        "X=df['vec'].to_numpy()\n",
        "X.shape"
      ],
      "metadata": {
        "colab": {
          "base_uri": "https://localhost:8080/"
        },
        "id": "XjxWQYkCJq5h",
        "outputId": "a14074b0-2bd6-4cc7-f7df-aea039d269dd"
      },
      "execution_count": 26,
      "outputs": [
        {
          "output_type": "execute_result",
          "data": {
            "text/plain": [
              "(748,)"
            ]
          },
          "metadata": {},
          "execution_count": 26
        }
      ]
    },
    {
      "cell_type": "markdown",
      "source": [
        "reshape to one column and multiple rows"
      ],
      "metadata": {
        "id": "qRdzEnOj3qMM"
      }
    },
    {
      "cell_type": "code",
      "source": [
        "X=X.reshape(-1,1)\n",
        "X.shape"
      ],
      "metadata": {
        "colab": {
          "base_uri": "https://localhost:8080/"
        },
        "id": "MX3i0Jf1wQkj",
        "outputId": "45c35566-5400-4741-e2ec-76d0cb059621"
      },
      "execution_count": 27,
      "outputs": [
        {
          "output_type": "execute_result",
          "data": {
            "text/plain": [
              "(748, 1)"
            ]
          },
          "metadata": {},
          "execution_count": 27
        }
      ]
    },
    {
      "cell_type": "code",
      "source": [
        "X=np.concatenate(np.concatenate(X,axis=0),axis=0).reshape(-1,300)\n",
        "X"
      ],
      "metadata": {
        "colab": {
          "base_uri": "https://localhost:8080/"
        },
        "id": "amsnhhuBJ5bD",
        "outputId": "cc00f795-bbb1-4dae-e916-dbe06dc87955"
      },
      "execution_count": 28,
      "outputs": [
        {
          "output_type": "execute_result",
          "data": {
            "text/plain": [
              "array([[-0.0714336 ,  0.2527413 , -0.2089631 , ..., -0.06899667,\n",
              "        -0.2158687 ,  0.02880419],\n",
              "       [ 0.05112227,  0.21386255, -0.13622889, ..., -0.02658024,\n",
              "         0.08020092, -0.05226086],\n",
              "       [-0.17059676,  0.07404754, -0.1405276 , ..., -0.07198143,\n",
              "         0.05619597,  0.09895289],\n",
              "       ...,\n",
              "       [-0.08180201,  0.20603983, -0.05556207, ..., -0.02543889,\n",
              "        -0.14692745,  0.01059252],\n",
              "       [-0.347575  ,  0.22817251, -0.10940499, ..., -0.1519975 ,\n",
              "         0.0327225 , -0.08738925],\n",
              "       [-0.16678132,  0.09090873, -0.01011783, ..., -0.01703776,\n",
              "        -0.06691939,  0.13167305]], dtype=float32)"
            ]
          },
          "metadata": {},
          "execution_count": 28
        }
      ]
    },
    {
      "cell_type": "code",
      "source": [
        "X1, X_test, y, y_test = train_test_split(X, y1, test_size=0.2, random_state=0)"
      ],
      "metadata": {
        "id": "jfSqbsvSYXpS"
      },
      "execution_count": 29,
      "outputs": []
    },
    {
      "cell_type": "markdown",
      "source": [
        "#Support Vector Classifier"
      ],
      "metadata": {
        "id": "beuJ3tZZYXpU"
      }
    },
    {
      "cell_type": "code",
      "source": [
        "lsvc=LinearSVC()\n",
        "hyperparameters={'penalty':['l1','l2'],'C':(1,2,3,4)}\n",
        "svc=GridSearchCV(lsvc,hyperparameters,n_jobs=-1,cv=5)\n",
        "svc.fit(X1,y)\n",
        "y_pred_svc = svc.predict(X_test)"
      ],
      "metadata": {
        "colab": {
          "base_uri": "https://localhost:8080/"
        },
        "outputId": "6e122e2c-e13b-4e75-fb38-0dca7d4e7a53",
        "id": "v15w77UJYXpW"
      },
      "execution_count": 30,
      "outputs": [
        {
          "output_type": "stream",
          "name": "stderr",
          "text": [
            "/usr/local/lib/python3.7/dist-packages/sklearn/model_selection/_validation.py:372: FitFailedWarning: \n",
            "20 fits failed out of a total of 40.\n",
            "The score on these train-test partitions for these parameters will be set to nan.\n",
            "If these failures are not expected, you can try to debug them by setting error_score='raise'.\n",
            "\n",
            "Below are more details about the failures:\n",
            "--------------------------------------------------------------------------------\n",
            "20 fits failed with the following error:\n",
            "Traceback (most recent call last):\n",
            "  File \"/usr/local/lib/python3.7/dist-packages/sklearn/model_selection/_validation.py\", line 680, in _fit_and_score\n",
            "    estimator.fit(X_train, y_train, **fit_params)\n",
            "  File \"/usr/local/lib/python3.7/dist-packages/sklearn/svm/_classes.py\", line 272, in fit\n",
            "    sample_weight=sample_weight,\n",
            "  File \"/usr/local/lib/python3.7/dist-packages/sklearn/svm/_base.py\", line 1185, in _fit_liblinear\n",
            "    solver_type = _get_liblinear_solver_type(multi_class, penalty, loss, dual)\n",
            "  File \"/usr/local/lib/python3.7/dist-packages/sklearn/svm/_base.py\", line 1026, in _get_liblinear_solver_type\n",
            "    % (error_string, penalty, loss, dual)\n",
            "ValueError: Unsupported set of arguments: The combination of penalty='l1' and loss='squared_hinge' are not supported when dual=True, Parameters: penalty='l1', loss='squared_hinge', dual=True\n",
            "\n",
            "  warnings.warn(some_fits_failed_message, FitFailedWarning)\n",
            "/usr/local/lib/python3.7/dist-packages/sklearn/model_selection/_search.py:972: UserWarning: One or more of the test scores are non-finite: [       nan 0.82273109        nan 0.81773109        nan 0.81271709\n",
            "        nan 0.80103641]\n",
            "  category=UserWarning,\n"
          ]
        }
      ]
    },
    {
      "cell_type": "code",
      "source": [
        "svc.best_params_"
      ],
      "metadata": {
        "colab": {
          "base_uri": "https://localhost:8080/"
        },
        "outputId": "9b7ad0af-bd34-4bb4-df95-c80299c9df3e",
        "id": "ghy62j2KYXpX"
      },
      "execution_count": 31,
      "outputs": [
        {
          "output_type": "execute_result",
          "data": {
            "text/plain": [
              "{'C': 1, 'penalty': 'l2'}"
            ]
          },
          "metadata": {},
          "execution_count": 31
        }
      ]
    },
    {
      "cell_type": "code",
      "source": [
        "print(classification_report(y_test,y_pred_svc))"
      ],
      "metadata": {
        "colab": {
          "base_uri": "https://localhost:8080/"
        },
        "outputId": "77dffd2d-352c-46a1-96b5-a05f7b768b0b",
        "id": "AgErYuEEYXpZ"
      },
      "execution_count": 32,
      "outputs": [
        {
          "output_type": "stream",
          "name": "stdout",
          "text": [
            "              precision    recall  f1-score   support\n",
            "\n",
            "           0       0.90      0.82      0.86        84\n",
            "           1       0.79      0.88      0.83        66\n",
            "\n",
            "    accuracy                           0.85       150\n",
            "   macro avg       0.85      0.85      0.85       150\n",
            "weighted avg       0.85      0.85      0.85       150\n",
            "\n"
          ]
        }
      ]
    },
    {
      "cell_type": "markdown",
      "source": [
        "#Logistic Regression"
      ],
      "metadata": {
        "id": "Jsr2qJvqYXpb"
      }
    },
    {
      "cell_type": "code",
      "source": [
        "LR=LogisticRegression(solver='liblinear')\n",
        "hyperparameters={'penalty':['l1','l2'],'C':(1,2,3,4)}\n",
        "lr=GridSearchCV(LR,hyperparameters,n_jobs=-1,cv=5)\n",
        "lr.fit(X1,y)\n",
        "y_pred_lr=lr.predict(X_test)#0.71"
      ],
      "metadata": {
        "id": "ioklTIOWYXpc"
      },
      "execution_count": 33,
      "outputs": []
    },
    {
      "cell_type": "code",
      "source": [
        "lr.best_params_"
      ],
      "metadata": {
        "colab": {
          "base_uri": "https://localhost:8080/"
        },
        "outputId": "b15d04d0-a843-4479-dd82-b0672299e5b8",
        "id": "S_yDJ0QtYXpd"
      },
      "execution_count": 34,
      "outputs": [
        {
          "output_type": "execute_result",
          "data": {
            "text/plain": [
              "{'C': 2, 'penalty': 'l2'}"
            ]
          },
          "metadata": {},
          "execution_count": 34
        }
      ]
    },
    {
      "cell_type": "code",
      "source": [
        "print(classification_report(y_test,y_pred_lr))"
      ],
      "metadata": {
        "colab": {
          "base_uri": "https://localhost:8080/"
        },
        "outputId": "68623082-6b2f-431e-add3-88e9768bf02b",
        "id": "WSTq5KcJYXpf"
      },
      "execution_count": 35,
      "outputs": [
        {
          "output_type": "stream",
          "name": "stdout",
          "text": [
            "              precision    recall  f1-score   support\n",
            "\n",
            "           0       0.92      0.82      0.87        84\n",
            "           1       0.80      0.91      0.85        66\n",
            "\n",
            "    accuracy                           0.86       150\n",
            "   macro avg       0.86      0.87      0.86       150\n",
            "weighted avg       0.87      0.86      0.86       150\n",
            "\n"
          ]
        }
      ]
    },
    {
      "cell_type": "markdown",
      "source": [
        "#Random Forest Classifier"
      ],
      "metadata": {
        "id": "UFBzvNXVYXpg"
      }
    },
    {
      "cell_type": "code",
      "source": [
        "# RFC = RandomForestClassifier(criterion='entropy', n_estimators=200).fit(X, y)\n",
        "RFC= RandomForestClassifier()\n",
        "hyperparameters={'n_estimators': [100,200,300,400,500],'criterion' :['gini', 'entropy']}\n",
        "rfc=GridSearchCV(RFC,hyperparameters,n_jobs=-1,cv=5)\n",
        "rfc.fit(X1,y)\n",
        "y_pred_rfc=rfc.predict(X_test)#0.63"
      ],
      "metadata": {
        "id": "FzosE2paYXpi"
      },
      "execution_count": 36,
      "outputs": []
    },
    {
      "cell_type": "code",
      "source": [
        "print(classification_report(y_test,y_pred_rfc))"
      ],
      "metadata": {
        "colab": {
          "base_uri": "https://localhost:8080/"
        },
        "outputId": "d900805c-c026-4ba4-9383-b4d0aa2bd4fd",
        "id": "UGZl3_oJYXpk"
      },
      "execution_count": 37,
      "outputs": [
        {
          "output_type": "stream",
          "name": "stdout",
          "text": [
            "              precision    recall  f1-score   support\n",
            "\n",
            "           0       0.90      0.74      0.81        84\n",
            "           1       0.73      0.89      0.80        66\n",
            "\n",
            "    accuracy                           0.81       150\n",
            "   macro avg       0.81      0.82      0.81       150\n",
            "weighted avg       0.82      0.81      0.81       150\n",
            "\n"
          ]
        }
      ]
    },
    {
      "cell_type": "code",
      "source": [
        "rfc.best_params_"
      ],
      "metadata": {
        "colab": {
          "base_uri": "https://localhost:8080/"
        },
        "outputId": "b740f187-9ee8-4997-b10e-88c847d0e2f1",
        "id": "72MgGK3RYXpo"
      },
      "execution_count": 38,
      "outputs": [
        {
          "output_type": "execute_result",
          "data": {
            "text/plain": [
              "{'criterion': 'entropy', 'n_estimators': 200}"
            ]
          },
          "metadata": {},
          "execution_count": 38
        }
      ]
    }
  ]
}